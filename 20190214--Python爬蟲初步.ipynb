{
 "cells": [
  {
   "cell_type": "markdown",
   "metadata": {},
   "source": [
    "## 爬蟲是什麼?\n"
   ]
  },
  {
   "cell_type": "markdown",
   "metadata": {},
   "source": [
    "### HTML 初步\n",
    "\n",
    "參考: https://www.youtube.com/watch?v=Jt7PA-h-XdI&index=14&list=PLS6ActuqbfA2bSOZV35MVpsVFvd6xxlzn\n",
    "\n",
    "取得超連結\n",
    "\n",
    "div 內的 class name 與 ID 的差別 \n",
    "    \n",
    "    <div class=\"title\"> <div id=\"articleid\">\n",
    "   \n",
    "\n",
    "絕對路徑 相對路徑\n",
    "\n",
    "HTML 巢狀結構"
   ]
  },
  {
   "cell_type": "markdown",
   "metadata": {},
   "source": [
    "## 利用瀏覽器的開發者工具"
   ]
  }
 ],
 "metadata": {
  "kernelspec": {
   "display_name": "Python 3",
   "language": "python",
   "name": "python3"
  },
  "language_info": {
   "codemirror_mode": {
    "name": "ipython",
    "version": 3
   },
   "file_extension": ".py",
   "mimetype": "text/x-python",
   "name": "python",
   "nbconvert_exporter": "python",
   "pygments_lexer": "ipython3",
   "version": "3.6.5"
  }
 },
 "nbformat": 4,
 "nbformat_minor": 2
}
