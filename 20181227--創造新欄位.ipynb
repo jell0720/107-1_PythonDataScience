{
 "cells": [
  {
   "cell_type": "markdown",
   "metadata": {},
   "source": [
    "# 讀取資料檔，並創造出新欄位"
   ]
  },
  {
   "cell_type": "code",
   "execution_count": 5,
   "metadata": {},
   "outputs": [
    {
     "data": {
      "text/html": [
       "<div>\n",
       "<style scoped>\n",
       "    .dataframe tbody tr th:only-of-type {\n",
       "        vertical-align: middle;\n",
       "    }\n",
       "\n",
       "    .dataframe tbody tr th {\n",
       "        vertical-align: top;\n",
       "    }\n",
       "\n",
       "    .dataframe thead th {\n",
       "        text-align: right;\n",
       "    }\n",
       "</style>\n",
       "<table border=\"1\" class=\"dataframe\">\n",
       "  <thead>\n",
       "    <tr style=\"text-align: right;\">\n",
       "      <th></th>\n",
       "      <th>編號</th>\n",
       "      <th>姓名</th>\n",
       "      <th>生日</th>\n",
       "      <th>性別</th>\n",
       "      <th>日期</th>\n",
       "    </tr>\n",
       "  </thead>\n",
       "  <tbody>\n",
       "    <tr>\n",
       "      <th>0</th>\n",
       "      <td>A0001</td>\n",
       "      <td>吳佩如</td>\n",
       "      <td>1985-06-22</td>\n",
       "      <td>男</td>\n",
       "      <td>103/04</td>\n",
       "    </tr>\n",
       "    <tr>\n",
       "      <th>1</th>\n",
       "      <td>A0002</td>\n",
       "      <td>黃啟倩</td>\n",
       "      <td>1982-03-09</td>\n",
       "      <td>女</td>\n",
       "      <td>103年4月25號</td>\n",
       "    </tr>\n",
       "    <tr>\n",
       "      <th>2</th>\n",
       "      <td>A0003</td>\n",
       "      <td>李建真</td>\n",
       "      <td>1977-11-04</td>\n",
       "      <td>女</td>\n",
       "      <td>103年4月</td>\n",
       "    </tr>\n",
       "    <tr>\n",
       "      <th>3</th>\n",
       "      <td>A0004</td>\n",
       "      <td>葉怡毓</td>\n",
       "      <td>1982-10-30</td>\n",
       "      <td>男</td>\n",
       "      <td>0103年6月25日</td>\n",
       "    </tr>\n",
       "    <tr>\n",
       "      <th>4</th>\n",
       "      <td>A0005</td>\n",
       "      <td>郭怡珊</td>\n",
       "      <td>1988-03-27</td>\n",
       "      <td>女</td>\n",
       "      <td>NaN</td>\n",
       "    </tr>\n",
       "  </tbody>\n",
       "</table>\n",
       "</div>"
      ],
      "text/plain": [
       "      編號   姓名         生日 性別          日期\n",
       "0  A0001  吳佩如 1985-06-22  男      103/04\n",
       "1  A0002  黃啟倩 1982-03-09  女   103年4月25號\n",
       "2  A0003  李建真 1977-11-04  女      103年4月\n",
       "3  A0004  葉怡毓 1982-10-30  男  0103年6月25日\n",
       "4  A0005  郭怡珊 1988-03-27  女         NaN"
      ]
     },
     "execution_count": 5,
     "metadata": {},
     "output_type": "execute_result"
    }
   ],
   "source": [
    "import pandas as pd\n",
    "\n",
    "df = pd.read_excel('原始資料表.xlsx', 'sheet')\n",
    "\n",
    "### 列出前幾筆資料\n",
    "df.head()\n"
   ]
  },
  {
   "cell_type": "markdown",
   "metadata": {},
   "source": [
    "# 計算出一個年紀欄位，並存入一個新檔"
   ]
  },
  {
   "cell_type": "code",
   "execution_count": 6,
   "metadata": {},
   "outputs": [
    {
     "data": {
      "text/html": [
       "<div>\n",
       "<style scoped>\n",
       "    .dataframe tbody tr th:only-of-type {\n",
       "        vertical-align: middle;\n",
       "    }\n",
       "\n",
       "    .dataframe tbody tr th {\n",
       "        vertical-align: top;\n",
       "    }\n",
       "\n",
       "    .dataframe thead th {\n",
       "        text-align: right;\n",
       "    }\n",
       "</style>\n",
       "<table border=\"1\" class=\"dataframe\">\n",
       "  <thead>\n",
       "    <tr style=\"text-align: right;\">\n",
       "      <th></th>\n",
       "      <th>編號</th>\n",
       "      <th>姓名</th>\n",
       "      <th>生日</th>\n",
       "      <th>性別</th>\n",
       "      <th>日期</th>\n",
       "      <th>年紀</th>\n",
       "    </tr>\n",
       "  </thead>\n",
       "  <tbody>\n",
       "    <tr>\n",
       "      <th>0</th>\n",
       "      <td>A0001</td>\n",
       "      <td>吳佩如</td>\n",
       "      <td>1985-06-22</td>\n",
       "      <td>男</td>\n",
       "      <td>103/04</td>\n",
       "      <td>33</td>\n",
       "    </tr>\n",
       "    <tr>\n",
       "      <th>1</th>\n",
       "      <td>A0002</td>\n",
       "      <td>黃啟倩</td>\n",
       "      <td>1982-03-09</td>\n",
       "      <td>女</td>\n",
       "      <td>103年4月25號</td>\n",
       "      <td>36</td>\n",
       "    </tr>\n",
       "    <tr>\n",
       "      <th>2</th>\n",
       "      <td>A0003</td>\n",
       "      <td>李建真</td>\n",
       "      <td>1977-11-04</td>\n",
       "      <td>女</td>\n",
       "      <td>103年4月</td>\n",
       "      <td>41</td>\n",
       "    </tr>\n",
       "    <tr>\n",
       "      <th>3</th>\n",
       "      <td>A0004</td>\n",
       "      <td>葉怡毓</td>\n",
       "      <td>1982-10-30</td>\n",
       "      <td>男</td>\n",
       "      <td>0103年6月25日</td>\n",
       "      <td>36</td>\n",
       "    </tr>\n",
       "    <tr>\n",
       "      <th>4</th>\n",
       "      <td>A0005</td>\n",
       "      <td>郭怡珊</td>\n",
       "      <td>1988-03-27</td>\n",
       "      <td>女</td>\n",
       "      <td>NaN</td>\n",
       "      <td>30</td>\n",
       "    </tr>\n",
       "  </tbody>\n",
       "</table>\n",
       "</div>"
      ],
      "text/plain": [
       "      編號   姓名         生日 性別          日期  年紀\n",
       "0  A0001  吳佩如 1985-06-22  男      103/04  33\n",
       "1  A0002  黃啟倩 1982-03-09  女   103年4月25號  36\n",
       "2  A0003  李建真 1977-11-04  女      103年4月  41\n",
       "3  A0004  葉怡毓 1982-10-30  男  0103年6月25日  36\n",
       "4  A0005  郭怡珊 1988-03-27  女         NaN  30"
      ]
     },
     "execution_count": 6,
     "metadata": {},
     "output_type": "execute_result"
    }
   ],
   "source": [
    "import pandas as pd\n",
    "\n",
    "df = pd.read_excel('原始資料表.xlsx', 'sheet')\n",
    "\n",
    "birthlist = []\n",
    "for birth in df['生日']:\n",
    "    birthlist.append(pd.Timestamp.now().year-birth.year)\n",
    "\n",
    "births = pd.Series(birthlist) \n",
    "\n",
    "# 增加一個 「年紀」的欄位。\n",
    "df['年紀'] = pd.Series(births, index=df.index)\n",
    "\n",
    "df.to_excel('原始資料表_年紀.xlsx')\n",
    "df.head()"
   ]
  },
  {
   "cell_type": "code",
   "execution_count": 7,
   "metadata": {},
   "outputs": [
    {
     "data": {
      "image/png": "[encoded data removed]",
      "text/plain": [
       "<Figure size 432x288 with 1 Axes>"
      ]
     },
     "metadata": {},
     "output_type": "display_data"
    }
   ],
   "source": [
    "## 畫一畫 年紀的分布圖吧！\n",
    "import matplotlib.pyplot as plt\n",
    "%matplotlib inline\n",
    "\n",
    "df = pd.read_excel('原始資料表_年紀.xlsx', 'Sheet1')\n",
    "\n",
    "df['年紀'].hist(bins = 15)\n",
    "\n",
    "plt.show()\n",
    "# print(births)"
   ]
  },
  {
   "cell_type": "code",
   "execution_count": null,
   "metadata": {},
   "outputs": [],
   "source": []
  }
 ],
 "metadata": {
  "kernelspec": {
   "display_name": "Python 3",
   "language": "python",
   "name": "python3"
  },
  "language_info": {
   "codemirror_mode": {
    "name": "ipython",
    "version": 3
   },
   "file_extension": ".py",
   "mimetype": "text/x-python",
   "name": "python",
   "nbconvert_exporter": "python",
   "pygments_lexer": "ipython3",
   "version": "3.6.5"
  }
 },
 "nbformat": 4,
 "nbformat_minor": 2
}
