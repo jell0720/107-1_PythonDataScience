{
 "cells": [
  {
   "cell_type": "code",
   "execution_count": 7,
   "metadata": {},
   "outputs": [
    {
     "name": "stdout",
     "output_type": "stream",
     "text": [
      "{'Site': '富貴角', 'county': '新北市', 'PM25': '16', 'DataCreationDate': '2018-12-06 09:00', 'ItemUnit': 'μg/m3'}\n",
      "{'Site': '麥寮', 'county': '雲林縣', 'PM25': '26', 'DataCreationDate': '2018-12-06 09:00', 'ItemUnit': 'μg/m3'}\n",
      "{'Site': '關山', 'county': '臺東縣', 'PM25': '6', 'DataCreationDate': '2018-12-06 09:00', 'ItemUnit': 'μg/m3'}\n",
      "{'Site': '馬公', 'county': '澎湖縣', 'PM25': '16', 'DataCreationDate': '2018-12-06 09:00', 'ItemUnit': 'μg/m3'}\n",
      "{'Site': '金門', 'county': '金門縣', 'PM25': '27', 'DataCreationDate': '2018-12-06 09:00', 'ItemUnit': 'μg/m3'}\n",
      "{'Site': '馬祖', 'county': '連江縣', 'PM25': '18', 'DataCreationDate': '2018-12-06 09:00', 'ItemUnit': 'μg/m3'}\n",
      "{'Site': '埔里', 'county': '南投縣', 'PM25': '21', 'DataCreationDate': '2018-12-06 09:00', 'ItemUnit': 'μg/m3'}\n",
      "{'Site': '復興', 'county': '高雄市', 'PM25': '41', 'DataCreationDate': '2018-12-06 09:00', 'ItemUnit': 'μg/m3'}\n",
      "{'Site': '永和', 'county': '新北市', 'PM25': '13', 'DataCreationDate': '2018-12-06 09:00', 'ItemUnit': 'μg/m3'}\n",
      "{'Site': '竹山', 'county': '南投縣', 'PM25': '25', 'DataCreationDate': '2018-12-06 09:00', 'ItemUnit': 'μg/m3'}\n",
      "{'Site': '中壢', 'county': '桃園市', 'PM25': '18', 'DataCreationDate': '2018-12-06 09:00', 'ItemUnit': 'μg/m3'}\n",
      "{'Site': '三重', 'county': '新北市', 'PM25': '10', 'DataCreationDate': '2018-12-06 09:00', 'ItemUnit': 'μg/m3'}\n",
      "{'Site': '冬山', 'county': '宜蘭縣', 'PM25': '6', 'DataCreationDate': '2018-12-06 09:00', 'ItemUnit': 'μg/m3'}\n",
      "{'Site': '宜蘭', 'county': '宜蘭縣', 'PM25': '9', 'DataCreationDate': '2018-12-06 09:00', 'ItemUnit': 'μg/m3'}\n",
      "{'Site': '陽明', 'county': '臺北市', 'PM25': '6', 'DataCreationDate': '2018-12-06 09:00', 'ItemUnit': 'μg/m3'}\n",
      "{'Site': '花蓮', 'county': '花蓮縣', 'PM25': '1', 'DataCreationDate': '2018-12-06 09:00', 'ItemUnit': 'μg/m3'}\n",
      "{'Site': '臺東', 'county': '臺東縣', 'PM25': '3', 'DataCreationDate': '2018-12-06 09:00', 'ItemUnit': 'μg/m3'}\n",
      "{'Site': '恆春', 'county': '屏東縣', 'PM25': '6', 'DataCreationDate': '2018-12-06 09:00', 'ItemUnit': 'μg/m3'}\n",
      "{'Site': '潮州', 'county': '屏東縣', 'PM25': '33', 'DataCreationDate': '2018-12-06 09:00', 'ItemUnit': 'μg/m3'}\n",
      "{'Site': '屏東', 'county': '屏東縣', 'PM25': '41', 'DataCreationDate': '2018-12-06 09:00', 'ItemUnit': 'μg/m3'}\n",
      "{'Site': '小港', 'county': '高雄市', 'PM25': '48', 'DataCreationDate': '2018-12-06 09:00', 'ItemUnit': 'μg/m3'}\n",
      "{'Site': '前鎮', 'county': '高雄市', 'PM25': '49', 'DataCreationDate': '2018-12-06 09:00', 'ItemUnit': 'μg/m3'}\n",
      "{'Site': '前金', 'county': '高雄市', 'PM25': '45', 'DataCreationDate': '2018-12-06 09:00', 'ItemUnit': 'μg/m3'}\n",
      "{'Site': '左營', 'county': '高雄市', 'PM25': '31', 'DataCreationDate': '2018-12-06 09:00', 'ItemUnit': 'μg/m3'}\n",
      "{'Site': '楠梓', 'county': '高雄市', 'PM25': '40', 'DataCreationDate': '2018-12-06 09:00', 'ItemUnit': 'μg/m3'}\n",
      "{'Site': '林園', 'county': '高雄市', 'PM25': '49', 'DataCreationDate': '2018-12-06 09:00', 'ItemUnit': 'μg/m3'}\n",
      "{'Site': '大寮', 'county': '高雄市', 'PM25': '55', 'DataCreationDate': '2018-12-06 09:00', 'ItemUnit': 'μg/m3'}\n",
      "{'Site': '鳳山', 'county': '高雄市', 'PM25': '33', 'DataCreationDate': '2018-12-06 09:00', 'ItemUnit': 'μg/m3'}\n",
      "{'Site': '仁武', 'county': '高雄市', 'PM25': '34', 'DataCreationDate': '2018-12-06 09:00', 'ItemUnit': 'μg/m3'}\n",
      "{'Site': '橋頭', 'county': '高雄市', 'PM25': '51', 'DataCreationDate': '2018-12-06 09:00', 'ItemUnit': 'μg/m3'}\n",
      "{'Site': '美濃', 'county': '高雄市', 'PM25': '26', 'DataCreationDate': '2018-12-06 09:00', 'ItemUnit': 'μg/m3'}\n",
      "{'Site': '臺南', 'county': '臺南市', 'PM25': '28', 'DataCreationDate': '2018-12-06 09:00', 'ItemUnit': 'μg/m3'}\n",
      "{'Site': '安南', 'county': '臺南市', 'PM25': '30', 'DataCreationDate': '2018-12-06 09:00', 'ItemUnit': 'μg/m3'}\n",
      "{'Site': '善化', 'county': '臺南市', 'PM25': '34', 'DataCreationDate': '2018-12-06 09:00', 'ItemUnit': 'μg/m3'}\n",
      "{'Site': '新營', 'county': '臺南市', 'PM25': '32', 'DataCreationDate': '2018-12-06 09:00', 'ItemUnit': 'μg/m3'}\n",
      "{'Site': '嘉義', 'county': '嘉義市', 'PM25': '26', 'DataCreationDate': '2018-12-06 09:00', 'ItemUnit': 'μg/m3'}\n",
      "{'Site': '臺西', 'county': '雲林縣', 'PM25': '16', 'DataCreationDate': '2018-12-06 09:00', 'ItemUnit': 'μg/m3'}\n",
      "{'Site': '朴子', 'county': '嘉義縣', 'PM25': '19', 'DataCreationDate': '2018-12-06 09:00', 'ItemUnit': 'μg/m3'}\n",
      "{'Site': '新港', 'county': '嘉義縣', 'PM25': '21', 'DataCreationDate': '2018-12-06 09:00', 'ItemUnit': 'μg/m3'}\n",
      "{'Site': '測站（試運轉）', 'county': '雲林縣', 'PM25': '30', 'DataCreationDate': '2018-12-06 09:00', 'ItemUnit': 'μg/m3'}\n",
      "{'Site': '斗六', 'county': '雲林縣', 'PM25': '32', 'DataCreationDate': '2018-12-06 09:00', 'ItemUnit': 'μg/m3'}\n",
      "{'Site': '南投', 'county': '南投縣', 'PM25': '25', 'DataCreationDate': '2018-12-06 09:00', 'ItemUnit': 'μg/m3'}\n",
      "{'Site': '二林', 'county': '彰化縣', 'PM25': '24', 'DataCreationDate': '2018-12-06 09:00', 'ItemUnit': 'μg/m3'}\n",
      "{'Site': '線西', 'county': '彰化縣', 'PM25': '14', 'DataCreationDate': '2018-12-06 09:00', 'ItemUnit': 'μg/m3'}\n",
      "{'Site': '彰化', 'county': '彰化縣', 'PM25': '10', 'DataCreationDate': '2018-12-06 09:00', 'ItemUnit': 'μg/m3'}\n",
      "{'Site': '西屯', 'county': '臺中市', 'PM25': '15', 'DataCreationDate': '2018-12-06 09:00', 'ItemUnit': 'μg/m3'}\n",
      "{'Site': '忠明', 'county': '臺中市', 'PM25': '8', 'DataCreationDate': '2018-12-06 09:00', 'ItemUnit': 'μg/m3'}\n",
      "{'Site': '大里', 'county': '臺中市', 'PM25': '7', 'DataCreationDate': '2018-12-06 09:00', 'ItemUnit': 'μg/m3'}\n",
      "{'Site': '沙鹿', 'county': '臺中市', 'PM25': '14', 'DataCreationDate': '2018-12-06 09:00', 'ItemUnit': 'μg/m3'}\n",
      "{'Site': '豐原', 'county': '臺中市', 'PM25': '10', 'DataCreationDate': '2018-12-06 09:00', 'ItemUnit': 'μg/m3'}\n",
      "{'Site': '三義', 'county': '苗栗縣', 'PM25': '13', 'DataCreationDate': '2018-12-06 09:00', 'ItemUnit': 'μg/m3'}\n",
      "{'Site': '苗栗', 'county': '苗栗縣', 'PM25': '17', 'DataCreationDate': '2018-12-06 09:00', 'ItemUnit': 'μg/m3'}\n",
      "{'Site': '頭份', 'county': '苗栗縣', 'PM25': '17', 'DataCreationDate': '2018-12-06 09:00', 'ItemUnit': 'μg/m3'}\n",
      "{'Site': '新竹', 'county': '新竹市', 'PM25': '18', 'DataCreationDate': '2018-12-06 09:00', 'ItemUnit': 'μg/m3'}\n",
      "{'Site': '竹東', 'county': '新竹縣', 'PM25': '13', 'DataCreationDate': '2018-12-06 09:00', 'ItemUnit': 'μg/m3'}\n",
      "{'Site': '湖口', 'county': '新竹縣', 'PM25': '24', 'DataCreationDate': '2018-12-06 09:00', 'ItemUnit': 'μg/m3'}\n",
      "{'Site': '龍潭', 'county': '桃園市', 'PM25': '14', 'DataCreationDate': '2018-12-06 09:00', 'ItemUnit': 'μg/m3'}\n",
      "{'Site': '平鎮', 'county': '桃園市', 'PM25': '13', 'DataCreationDate': '2018-12-06 09:00', 'ItemUnit': 'μg/m3'}\n",
      "{'Site': '觀音', 'county': '桃園市', 'PM25': '29', 'DataCreationDate': '2018-12-06 09:00', 'ItemUnit': 'μg/m3'}\n",
      "{'Site': '大園', 'county': '桃園市', 'PM25': '9', 'DataCreationDate': '2018-12-06 09:00', 'ItemUnit': 'μg/m3'}\n",
      "{'Site': '桃園', 'county': '桃園市', 'PM25': '21', 'DataCreationDate': '2018-12-06 09:00', 'ItemUnit': 'μg/m3'}\n",
      "{'Site': '大同', 'county': '臺北市', 'PM25': '8', 'DataCreationDate': '2018-12-06 09:00', 'ItemUnit': 'μg/m3'}\n",
      "{'Site': '松山', 'county': '臺北市', 'PM25': '5', 'DataCreationDate': '2018-12-06 09:00', 'ItemUnit': 'μg/m3'}\n",
      "{'Site': '古亭', 'county': '臺北市', 'PM25': '13', 'DataCreationDate': '2018-12-06 09:00', 'ItemUnit': 'μg/m3'}\n",
      "{'Site': '萬華', 'county': '臺北市', 'PM25': '5', 'DataCreationDate': '2018-12-06 09:00', 'ItemUnit': 'μg/m3'}\n",
      "{'Site': '中山', 'county': '臺北市', 'PM25': '11', 'DataCreationDate': '2018-12-06 09:00', 'ItemUnit': 'μg/m3'}\n",
      "{'Site': '士林', 'county': '臺北市', 'PM25': '10', 'DataCreationDate': '2018-12-06 09:00', 'ItemUnit': 'μg/m3'}\n",
      "{'Site': '淡水', 'county': '新北市', 'PM25': '21', 'DataCreationDate': '2018-12-06 09:00', 'ItemUnit': 'μg/m3'}\n",
      "{'Site': '林口', 'county': '新北市', 'PM25': '17', 'DataCreationDate': '2018-12-06 09:00', 'ItemUnit': 'μg/m3'}\n",
      "{'Site': '菜寮', 'county': '新北市', 'PM25': '11', 'DataCreationDate': '2018-12-06 09:00', 'ItemUnit': 'μg/m3'}\n",
      "{'Site': '新莊', 'county': '新北市', 'PM25': '21', 'DataCreationDate': '2018-12-06 09:00', 'ItemUnit': 'μg/m3'}\n",
      "{'Site': '板橋', 'county': '新北市', 'PM25': '17', 'DataCreationDate': '2018-12-06 09:00', 'ItemUnit': 'μg/m3'}\n",
      "{'Site': '土城', 'county': '新北市', 'PM25': '21', 'DataCreationDate': '2018-12-06 09:00', 'ItemUnit': 'μg/m3'}\n",
      "{'Site': '新店', 'county': '新北市', 'PM25': '5', 'DataCreationDate': '2018-12-06 09:00', 'ItemUnit': 'μg/m3'}\n",
      "{'Site': '萬里', 'county': '新北市', 'PM25': '13', 'DataCreationDate': '2018-12-06 09:00', 'ItemUnit': 'μg/m3'}\n",
      "{'Site': '汐止', 'county': '新北市', 'PM25': '8', 'DataCreationDate': '2018-12-06 09:00', 'ItemUnit': 'μg/m3'}\n",
      "{'Site': '基隆', 'county': '基隆市', 'PM25': '8', 'DataCreationDate': '2018-12-06 09:00', 'ItemUnit': 'μg/m3'}\n"
     ]
    },
    {
     "name": "stderr",
     "output_type": "stream",
     "text": [
      "C:\\Users\\jiangsir\\Anaconda3\\lib\\site-packages\\urllib3\\connectionpool.py:852: InsecureRequestWarning: Unverified HTTPS request is being made. Adding certificate verification is strongly advised. See: https://urllib3.readthedocs.io/en/latest/advanced-usage.html#ssl-warnings\n",
      "  InsecureRequestWarning)\n"
     ]
    }
   ],
   "source": [
    "import requests, json\n",
    "\n",
    "# 若來源資料為 https 則加上 verify=False 參數\n",
    "response = requests.get('https://opendata.epa.gov.tw/ws/Data/ATM00625/?$format=json', verify=False)\n",
    "#print(response.text)\n",
    "sites = response.json()\n",
    "for site in sites:\n",
    "    print(site)\n"
   ]
  },
  {
   "cell_type": "markdown",
   "metadata": {},
   "source": [
    "# 空氣品質監測網\n",
    "\n",
    "全年資料下載。\n",
    "https://taqm.epa.gov.tw/taqm/tw/YearlyDataDownload.aspx\n"
   ]
  },
  {
   "cell_type": "code",
   "execution_count": null,
   "metadata": {},
   "outputs": [],
   "source": []
  }
 ],
 "metadata": {
  "kernelspec": {
   "display_name": "Python 3",
   "language": "python",
   "name": "python3"
  },
  "language_info": {
   "codemirror_mode": {
    "name": "ipython",
    "version": 3
   },
   "file_extension": ".py",
   "mimetype": "text/x-python",
   "name": "python",
   "nbconvert_exporter": "python",
   "pygments_lexer": "ipython3",
   "version": "3.6.5"
  }
 },
 "nbformat": 4,
 "nbformat_minor": 2
}
