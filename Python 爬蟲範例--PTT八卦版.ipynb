{
 "cells": [
  {
   "cell_type": "markdown",
   "metadata": {},
   "source": [
    "## 網路風向標"
   ]
  },
  {
   "cell_type": "code",
   "execution_count": 1,
   "metadata": {},
   "outputs": [
    {
     "name": "stdout",
     "output_type": "stream",
     "text": [
      "Collecting wordcloud\n",
      "  Downloading https://files.pythonhosted.org/packages/dd/57/8fd38e31be7951f9164f4cb3a769159a0c2ef4af0f597ddf09a7e736593e/wordcloud-1.5.0-cp36-cp36m-win_amd64.whl (153kB)\n",
      "Requirement already satisfied: pillow in c:\\users\\jiangsir\\anaconda3\\lib\\site-packages (from wordcloud) (5.1.0)\n",
      "Requirement already satisfied: numpy>=1.6.1 in c:\\users\\jiangsir\\anaconda3\\lib\\site-packages (from wordcloud) (1.14.3)\n",
      "Installing collected packages: wordcloud\n",
      "Successfully installed wordcloud-1.5.0\n"
     ]
    },
    {
     "name": "stderr",
     "output_type": "stream",
     "text": [
      "You are using pip version 18.0, however version 19.0.2 is available.\n",
      "You should consider upgrading via the 'python -m pip install --upgrade pip' command.\n"
     ]
    }
   ],
   "source": [
    "!pip install wordcloud"
   ]
  },
  {
   "cell_type": "markdown",
   "metadata": {},
   "source": [
    "## PTT 八卦版"
   ]
  },
  {
   "cell_type": "code",
   "execution_count": 1,
   "metadata": {
    "scrolled": true
   },
   "outputs": [
    {
     "name": "stderr",
     "output_type": "stream",
     "text": [
      "C:\\Users\\jiangsir\\Anaconda3\\lib\\site-packages\\urllib3\\connectionpool.py:852: InsecureRequestWarning: Unverified HTTPS request is being made. Adding certificate verification is strongly advised. See: https://urllib3.readthedocs.io/en/latest/advanced-usage.html#ssl-warnings\n",
      "  InsecureRequestWarning)\n",
      "C:\\Users\\jiangsir\\Anaconda3\\lib\\site-packages\\urllib3\\connectionpool.py:852: InsecureRequestWarning: Unverified HTTPS request is being made. Adding certificate verification is strongly advised. See: https://urllib3.readthedocs.io/en/latest/advanced-usage.html#ssl-warnings\n",
      "  InsecureRequestWarning)\n",
      "C:\\Users\\jiangsir\\Anaconda3\\lib\\site-packages\\urllib3\\connectionpool.py:852: InsecureRequestWarning: Unverified HTTPS request is being made. Adding certificate verification is strongly advised. See: https://urllib3.readthedocs.io/en/latest/advanced-usage.html#ssl-warnings\n",
      "  InsecureRequestWarning)\n",
      "C:\\Users\\jiangsir\\Anaconda3\\lib\\site-packages\\urllib3\\connectionpool.py:852: InsecureRequestWarning: Unverified HTTPS request is being made. Adding certificate verification is strongly advised. See: https://urllib3.readthedocs.io/en/latest/advanced-usage.html#ssl-warnings\n",
      "  InsecureRequestWarning)\n"
     ]
    },
    {
     "name": "stdout",
     "output_type": "stream",
     "text": [
      "[新聞] 左批降載不公右批隱匿資訊盧秀燕慘遭台 https://www.ptt.cc/bbs/Gossiping/M.1553987300.A.BE4.html\n",
      "Re: [新聞] 檢舉作弊卻被要求道歉　小六女淚訴「我 https://www.ptt.cc/bbs/Gossiping/M.1553987305.A.961.html\n",
      "[問卦] 早餐店那項最不賺錢? https://www.ptt.cc/bbs/Gossiping/M.1553987471.A.B5D.html\n",
      "[問卦] 高鐵的大學生優惠票是不是養客人的方式？ https://www.ptt.cc/bbs/Gossiping/M.1553987598.A.12E.html\n",
      "[問卦] 嗚嗚…沒有小圭舞可以看了>< https://www.ptt.cc/bbs/Gossiping/M.1553987628.A.3A7.html\n",
      "Re: [新聞] 檢舉作弊卻被要求道歉　小六女淚訴「我 https://www.ptt.cc/bbs/Gossiping/M.1553987724.A.90D.html\n",
      "[問卦] 商務艙冰箱裡有手指 該向誰投訴 https://www.ptt.cc/bbs/Gossiping/M.1553987741.A.E81.html\n",
      "[公告] 八卦板板規(2019.02.21) https://www.ptt.cc/bbs/Gossiping/M.1550749445.A.B40.html\n",
      "[協尋]中和板南路-3/29下午6點左右車禍 https://www.ptt.cc/bbs/Gossiping/M.1553865083.A.580.html\n",
      "Fw: [尋人] (更新：已經找到！ https://www.ptt.cc/bbs/Gossiping/M.1553875350.A.A15.html\n",
      "[尋人] (已找到!!)北市松山區，38歲男性失蹤，精神狀況不佳 https://www.ptt.cc/bbs/Gossiping/M.1553877690.A.7E4.html\n",
      "[公告] 三月份置底閒聊文 終章 https://www.ptt.cc/bbs/Gossiping/M.1553521213.A.95E.html\n"
     ]
    }
   ],
   "source": [
    "import requests\n",
    "from bs4 import BeautifulSoup\n",
    "\n",
    "payload = {\n",
    "    'from': 'bbs/Gossiping/index.html',\n",
    "    'yes': 'yes'\n",
    "}\n",
    "\n",
    "host = 'https://www.ptt.cc'\n",
    "\n",
    "rs = requests.session()\n",
    "result = rs.post(host+'/ask/over18', verify=False, data=payload)\n",
    "\n",
    "\n",
    "result = rs.get(host+'/bbs/Gossiping/index.html')\n",
    "soup = BeautifulSoup(result.text, 'lxml')\n",
    "\n",
    "selector = 'div.title a'\n",
    "tags = soup.select(selector)\n",
    "for tag in tags:\n",
    "    print(tag.text, host+tag['href'])"
   ]
  },
  {
   "cell_type": "markdown",
   "metadata": {},
   "source": [
    "## 跨頁讀取"
   ]
  },
  {
   "cell_type": "code",
   "execution_count": 3,
   "metadata": {},
   "outputs": [
    {
     "name": "stdout",
     "output_type": "stream",
     "text": [
      "讀取文章:  /bbs/Gossiping/index.html\n",
      "讀取文章:  /bbs/Gossiping/index38791.html\n",
      "讀取文章:  /bbs/Gossiping/index38790.html\n",
      "讀取文章:  /bbs/Gossiping/index38789.html\n",
      "讀取文章:  /bbs/Gossiping/index38788.html\n",
      "讀取文章:  /bbs/Gossiping/index38787.html\n",
      "讀取文章:  /bbs/Gossiping/index38786.html\n",
      "讀取文章:  /bbs/Gossiping/index38785.html\n",
      "讀取文章:  /bbs/Gossiping/index38784.html\n",
      "讀取文章:  /bbs/Gossiping/index38783.html\n",
      "[新聞] 左批降載不公右批隱匿資訊盧秀燕慘遭台 Re: [新聞] 檢舉作弊卻被要求道歉　小六女淚訴「我 [問卦] 早餐店那項最不賺錢? [問卦] 高鐵的大學生優惠票是不是養客人的方式？ [問卦] 嗚嗚…沒有小圭舞可以看了>< Re: [新聞] 檢舉作弊卻被要求道歉　小六女淚訴「我 [問卦] 商務艙冰箱裡有手指 該向誰投訴 [新聞] 網路聲量消退怎麼辦？韓國瑜：塵歸塵、土 Re: [新聞] 民進黨大敗原因 賴清德:中小企業未獲政府 Re: [新聞] 民進黨大敗原因 賴清德:中小企業未獲政府 [公告] 八卦板板規(2019.02.21) [協尋]中和板南路-3/29下午6點左右車禍 Fw: [尋人] (更新：已經找到！ [尋人] (已找到!!)北市松山區，38歲男性失蹤，精神狀況不佳 [公告] 三月份置底閒聊文 終章 [問卦] 新垣結衣是不是日本小馮？ Re: [新聞] 檢舉作弊卻被要求道歉　小六女淚訴「我 [問卦] 早餐店不叫帥哥改叫老闆是中年的第一步嗎 [問卦] 蔡徐坤打的飛人佐丹嗎？ [問卦] 小馮跟新垣結衣相似有點高呀 [新聞] 清水深夜惡火 夫妻雙亡三子女搶救中 [新聞] 再對Fed施壓 白宮要求Fed立即降息兩碼 [問卦] 沒有靈感發廢文的時候怎辦? Re: [問卦] 陽春麵一碗45元怎麼不去搶? [問卦] 人這麼少，給個推很難？ [問卦] 一大早討噓的到底在想什麼？ [問卦] 肥宅的酥胸 [問卦] 現任國王被挑戰成功，無法連任的案例 Re: [問卦] 陽春麵一碗45元怎麼不去搶? [新聞]不選總統?韓國瑜:用4年讓大家看見決心 毅力 [問卦] 最聰明的狗是？ [臉書] 蔡英文 [問卦] 要搭私人飛機了要注意什麼 Re: [問卦] 成熟的大姐姐不好嗎？ [問卦] 唸書聽音樂有用嗎o'_'o Re: [新聞] 民進黨大敗原因 賴清德:中小企業未獲 Re: [問卦] 美國承認我們是國家，叫中華民國還是台灣 [問卦] 現在沒人噓吧 [新聞] 4科手工全彩筆記！北一女學霸「爽賣40萬 [問卦] 去后里騎腳踏車要騎電動還是腳踩？ [問卦] 噓在CD了吧  哈哈！ Re: [問卦] 會做菜是什麼程度？ Re: [問卦] 美國承認我們是國家，叫中華民國還是台灣 [新聞] 正妹YouTuber穿內衣拍片「聞乳香」 網友 [問卦] 現在因該沒人噓了吧 [問卦] 如果說有什麼令我難過的，那就是.... [問卦] 你各位啊 早餐吃什麼？ [問卦] 台灣便利商店是否有些東西比日本貴了 [新聞] 中國擴大施壓Apple 禁境內Mac顯示我國旗 [新聞] 龍翔營區開放神龍小組跳傘 6萬人爭睹國軍 [問卦] 肚子終於餓了 [問卦]小馮是不是台灣的新垣結衣? Re: [問卦] 會做菜是什麼程度？ [問卦] 為什麼東方人會輸給西方人? [問卦] 身高高在格鬥中吃香嗎 [問卦] youtuber開補習班能發大財嗎? [問卦] 天天都需要你愛 我的心思由你猜 Re: [問卦] 陽春麵一碗45元怎麼不去搶? [問卦] 貓貓力量！woman Re: [問卦] 身高高在格鬥中吃香嗎 [問卦] 解放乳頭遊行都是唬爛嗎 Re: [新聞] 民進黨大敗原因 賴清德:中小企業未獲政府 [問卦] 現在開始用QQ跟微博還來的及嗎？ Re: [問卦] 新來的女同事直接combo請假到年中 [問卦] 成熟的大姐姐不好嗎？ [問卦] 沒有具有......安特..水果 Re: [問卦] 現在開始用QQ跟微博還來的及嗎？ [新聞] 受夠了脫歐 英國人盼梅根寶寶捎喜訊 [問卦] 隔壁的女生室友好像都準時四點半起床尿尿 [問卦] 你是老師 如何制裁作弊嫌疑人？ Re: [問卦] 新來的女同事直接combo請假到年中 [問卦] 起床跟睡著哪個比較難 [問卦] 店員沒給我湯匙!!!!!!!!!! [問卦] 店員沒給我筷子!!!!!!!!!! Re: [問卦] 睡不著？ [問卦] 用性格猜星座可行嗎？ Re: [新聞] 民進黨大敗原因 賴清德:中小企業未獲政府 [問卦] 星座這東西真的準嗎? Re: [新聞] 檢舉作弊卻被要求道歉　小六女淚訴「我 Re: [新聞] 民進黨大敗原因 賴清德:中小企業未獲政府 Re: [問卦] 睡不著？ Re: [問卦] 用性格猜星座可行嗎？ Re: [問卦] 新來的女同事直接combo請假到年中 Re: [新聞] 檢舉作弊卻被要求道歉　小六女淚訴「我 [問卦] 深夜橘貓貓被推爆？ [問卦] 有沒有pewdiepie最近被t-series超越的卦 Re: [新聞] 檢舉作弊卻被要求道歉　小六女淚訴「 Re: [問卦] 國中大奶妹後來都去哪裡了？ Re: [新聞] 檢舉作弊卻被要求道歉　小六女淚訴「我 [問卦] 在qtime尻尻會怎樣嗎？ Re: [新聞] 檢舉作弊卻被要求道歉　小六女淚訴「我 Re: [新聞] 檢舉作弊卻被要求道歉　小六女淚訴「我 Re: [新聞]賴清德哽咽\"不能傷小英\"蔡英文:我不怕受傷 [問卦] 超級喜歡千石撫子 Re: [新聞] 宣布不參選2020?韓國瑜:四年時間讓大家1 [問卦] 台灣為何不流行K Car來取代機車？ Re: [新聞] 宣布不參選2020?韓國瑜:四年時間讓大家1 Re: [新聞] 范冰冰失蹤5個月腫一圈 出現驚人轉變飄 Re: [新聞] 檢舉作弊卻被要求道歉　小六女淚訴「我 Re: [新聞] 中國侵犯智財 美聯社：走當年美國老路罷 [問卦] 新來的女同事直接combo請假到年中 [問卦] 嘿 凶宅睡了嗎？ Re: [問卦] 沒有麻醉藥的年代  截肢要怎麼實行 Re: [新聞] 民進黨大敗原因 賴清德:中小企業未獲政府 [問卦] 這裡是八卦還是召喚峽谷？？ [問卦] 陽春麵一碗45元怎麼不去搶? Re: [新聞] 檢舉作弊卻被要求道歉　小六女淚訴「我做錯了嗎？」 [新聞] 「出書不是為了選總統」　賴清德：第二任 [問卦] 請軟居ㄘ鹹酥G會不會給推？(づ・ω・)づ Re: [新聞] 檢舉作弊卻被要求道歉　小六女淚訴「我 [問卦] 基隆現在有下雨嗎 [問卦] 睡不著？ Re: [新聞] 民進黨大敗原因 賴清德:中小企業未獲政府 [問卦] 有沒有中時優質的節目 MIT台灣誌的卦 Re: [問卦] 最能代表台灣的物質文化是什麼？ [新聞] 美日盼促成蔡柯配？柯Ｐ：我是美日中都可 Re: [新聞] 檢舉作弊卻被要求道歉　小六女淚訴「我 [問卦] 隕-浮流 沒有問題 Re: [新聞] 檢舉作弊卻被要求道歉　小六女淚訴「我 Re: [新聞] 民進黨大敗原因 賴清德:中小企業未獲政府 Re: [問卦] 台灣國軍手槍是不是都是古董？ [問卦] 要開奶台為什麼不直接跳舞？ [問卦] 台積電停車場都是什麼車? [問卦] 須田亞香里怎麼沒啥人氣? Re: [新聞] 民進黨大敗原因 賴清德:中小企業未獲政府 [問卦] 說給小朋友的睡前故事 Re: [問卦] 關羽如果活著逃回蜀國會怎麼樣 [新聞] 中國侵犯智財 美聯社：走當年美國老路罷 Re: [問卦] 要怎麼區別網路甲甲 Re: [新聞] 檢舉作弊卻被要求道歉　小六女淚訴「我 [問卦] 為什麼周星馳新喜劇之王台灣沒有上映? [問卦] 國父紀念館同志酒吧噪音及違法求助 Re: [新聞] 檢舉作弊卻被要求道歉　小六女淚訴「我做錯了嗎？」 [問卦] 蘆洲的人都這麼兇殘嗎？ [問卦] 哆啦a夢的腳步聲呢？ [問卦] 有沒有人在愚人節分手的八卦？ Re: [新聞] 宣布不參選2020?韓國瑜:四年時間讓大家1 [問卦] 三菱除濕機的八卦？ [問卦] 台灣國軍手槍是不是都是古董？ Re: [問卦] 窮學生拿存款去買支中鋼划不划算 [問卦] 剛剛找到我同學該說什麼R [問卦] 會做菜是什麼程度？ [問卦] 安安為什麼榴槤這麼好吃 Re: [問卦] 國中大奶妹後來都去哪裡了？ [問卦] 有沒有屁毛到底是長三小的卦 Re: [新聞] 檢舉作弊卻被要求道歉　小六女淚訴「我 [問卦] 中華鍋貼真的有變小顆嗎？ Re: [問卦] 台灣國軍手槍是不是都是古董？ [問卦] 七八人一組在馬路上跑 [問卦] 坐高鐵只愛點半鐘 沿途看風景? Re: [問卦] 晚上宵夜要吃什麼 Re: [問卦] 台語消失後想講幹你娘怎麼辦? [問卦] 台灣人會羨慕新加坡人的生活嗎？ Re: [問卦] 頻暴中國內幕，站上五毛為何仍不覺醒? Re: [問卦] 手機只有一支而且用超過兩年的舉手！ Re: [問卦] 有ptt帳號卻不發文？ [問卦] 哪種麵拌醬好吃 [問卦] 慟! TWICE東京巨蛋演唱會順利落幕的卦? [新聞] 檢舉作弊卻被要求道歉　小六女淚訴「我 [問卦] 身邊有喜歡穿古著的文青朋友嗎? Re: [新聞] 【雙子星卡關】柯市府轟投審會查中資龜速 Re: [新聞] 民進黨大敗原因 賴清德:中小企業未獲政府 [問卦] 遊戲王當中最騷的女角是誰？ [問卦] 關於和平解決兩岸政治分歧的一種方案 [爆卦] 彭文正拿賴清德巨龍紅光 酸NCC了 [問卦] 欸 跑太多膝蓋會壞掉嗎？ Re: [新聞] 宣布不參選2020?韓國瑜:四年時間讓大家1 [問卦] 牙醫不植牙?眼科醫師不做雷射? [問卦] 台灣人是不是對政治人物很不友善？ [問卦] 真的有人會引用聖經的句子嗎？？？ Re: [臉書] 蔡英文 Re: [問卦] 關羽如果活著逃回蜀國會怎麼樣 Re: [問卦] 身邊有喜歡穿古著的文青朋友嗎? Re: [問卦] 手機只有一支而且用超過兩年的舉手！ [新聞] Sony Xperia 1 藏彩蛋？傳有「輕量版」 Re: [問卦] 台北半夜哪裏可以買到叉燒包？ [問卦] 有沒有做生意小夫妻的八卦 [問卦] 關羽如果活著逃回蜀國會怎麼樣 [新聞] 驚！孕婦搭北捷去產檢 遇上怪男子想掀衣 [問卦] 一個人忘掉初戀要多久呢？ [問卦] 這首歌是男生共同的回憶嗎？ [問卦] 理解全英文七百頁資料結構聖經要多久？ [問卦] 白色戀人怎麼那麼好吃 [問卦] 只有呼吸不說謊　就像愛情在閃亮 Re: [新聞] Sony Xperia 1 藏彩蛋？傳有「輕量版」 Re: [問卦] 推薦哪本聖經？ [問卦] 大補帖麻油雞風味就窮人版台酒花彫雞？ [問卦] 泳池賣店大嬸跟網咖吧台小妹誰才是泡麵高手? [問卦] 手機只有一支而且用超過兩年的舉手！ [問卦] 推薦哪本第一次XX就上手系列？ [問卦] 慟！ISIS被殲滅了 肥宅該去哪找處女？ Re: [問卦] 有ptt帳號卻不發文？ Re: [新聞] 【雙子星卡關】柯市府轟投審會查中資龜速 Re: [新聞] 民進黨大敗原因 賴清德:中小企業未獲政府\n"
     ]
    }
   ],
   "source": [
    "import urllib3\n",
    "urllib3.disable_warnings()\n",
    "\n",
    "def readPage(url):\n",
    "    result = rs.get(host+url,verify=False)\n",
    "    print('讀取文章: ', url)\n",
    "    soup = BeautifulSoup(result.text, 'lxml')\n",
    "    selector = \"div.title a\"\n",
    "    tags = soup.select(selector)\n",
    "    for tag in tags:\n",
    "        #print(tag.text, host+tag['href'])\n",
    "        titles.append(tag.text)\n",
    "\n",
    "url = '/bbs/Gossiping/index.html'\n",
    "\n",
    "titles = []\n",
    "for i in range(10):\n",
    "    readPage(url)\n",
    "    result = rs.get(host+url,verify=False)\n",
    "    soup = BeautifulSoup(result.text, 'lxml')\n",
    "    selector = \"div[class='btn-group btn-group-paging'] a\"\n",
    "    tags = soup.select(selector)\n",
    "    url = tags[1]['href']\n",
    "    \n",
    "print(*titles)"
   ]
  }
 ],
 "metadata": {
  "kernelspec": {
   "display_name": "Python 3",
   "language": "python",
   "name": "python3"
  },
  "language_info": {
   "codemirror_mode": {
    "name": "ipython",
    "version": 3
   },
   "file_extension": ".py",
   "mimetype": "text/x-python",
   "name": "python",
   "nbconvert_exporter": "python",
   "pygments_lexer": "ipython3",
   "version": "3.6.5"
  }
 },
 "nbformat": 4,
 "nbformat_minor": 2
}
