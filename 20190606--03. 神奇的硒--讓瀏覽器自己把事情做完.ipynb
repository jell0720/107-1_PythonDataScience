{
 "cells": [
  {
   "cell_type": "markdown",
   "metadata": {},
   "source": [
    "# 首先安裝必要的套件\n"
   ]
  },
  {
   "cell_type": "markdown",
   "metadata": {},
   "source": [
    "## 安裝 selenium"
   ]
  },
  {
   "cell_type": "code",
   "execution_count": 4,
   "metadata": {},
   "outputs": [
    {
     "name": "stdout",
     "output_type": "stream",
     "text": [
      "Requirement already satisfied: selenium in c:\\users\\user\\anaconda3\\lib\\site-packages (3.141.0)\n",
      "Requirement already satisfied: urllib3 in c:\\users\\user\\anaconda3\\lib\\site-packages (from selenium) (1.21.1)\n"
     ]
    },
    {
     "name": "stderr",
     "output_type": "stream",
     "text": [
      "You are using pip version 18.1, however version 19.1.1 is available.\n",
      "You should consider upgrading via the 'python -m pip install --upgrade pip' command.\n"
     ]
    }
   ],
   "source": [
    "!pip install selenium"
   ]
  },
  {
   "cell_type": "markdown",
   "metadata": {},
   "source": [
    "# 下載瀏覽器控制器到 python 資料夾\n",
    "\n",
    " ## [chromedriver.exe](files/chromedriver.exe)\n",
    " \n",
    " 將 chromedriver.exe 複製到 C:\\\\Users\\\\jiangsir\\\\Anaconda3\\\\  以便未來使用"
   ]
  },
  {
   "cell_type": "code",
   "execution_count": 2,
   "metadata": {},
   "outputs": [
    {
     "data": {
      "text/plain": [
       "'C:\\\\Users\\\\user\\\\Anaconda3\\\\python.exe'"
      ]
     },
     "execution_count": 2,
     "metadata": {},
     "output_type": "execute_result"
    }
   ],
   "source": [
    "# 確定目前使用的 python 的實際路徑\n",
    "\n",
    "import sys\n",
    "sys.executable"
   ]
  },
  {
   "cell_type": "markdown",
   "metadata": {},
   "source": [
    "# 見證神奇的時刻\n",
    "\n",
    "### 你會見到瀏覽器自行打開，連到指定的網站，並且這個瀏覽器會顯示被自動測試程式控制。\n",
    "\n",
    "![](images/Selenium.PNG)"
   ]
  },
  {
   "cell_type": "code",
   "execution_count": 6,
   "metadata": {},
   "outputs": [],
   "source": [
    "from selenium import webdriver\n",
    "# 打開瀏覽器\n",
    "driver = webdriver.Chrome()\n",
    "\n",
    "# 連到我想去的網站\n",
    "driver.get(\"http://zerojudge.tw\")\n",
    "\n",
    "#關閉瀏覽器\n",
    "driver.close()"
   ]
  },
  {
   "cell_type": "markdown",
   "metadata": {},
   "source": [
    "# 打開瀏覽器，連線到 google"
   ]
  },
  {
   "cell_type": "code",
   "execution_count": 2,
   "metadata": {},
   "outputs": [
    {
     "name": "stdout",
     "output_type": "stream",
     "text": [
      "Google\n"
     ]
    }
   ],
   "source": [
    "from selenium import webdriver\n",
    "from selenium.common.exceptions import TimeoutException\n",
    " \n",
    "# available since 2.4.0\n",
    "from selenium.webdriver.support.ui import WebDriverWait\n",
    " \n",
    "# available since 2.26.0\n",
    "from selenium.webdriver.support import expected_conditions as EC\n",
    " \n",
    "# 建立 driver\n",
    "# 需下載 Browser Drivers http://www.seleniumhq.org/download/ \n",
    "# 若 geckodriver 有在 PATH 中， firefox 可不帶路徑參數\n",
    "\n",
    "#driver = webdriver.Chrome(executable_path=\"C:\\\\Users\\\\jiangsir\\\\Anaconda3\\\\chromedriver.exe\")\n",
    "# 打開瀏覽器\n",
    "driver = webdriver.Chrome()\n",
    "\n",
    "# 去 google\n",
    "driver.get(\"http://www.google.com\")\n",
    " \n",
    "# 顯示標題\n",
    "print(driver.title)\n",
    "\n",
    "# 關閉瀏覽器\n",
    "driver.close()"
   ]
  },
  {
   "cell_type": "markdown",
   "metadata": {},
   "source": [
    "# 打開 chrome 到 google 查詢關鍵字，並把查詢結果撈回來"
   ]
  },
  {
   "cell_type": "code",
   "execution_count": 8,
   "metadata": {},
   "outputs": [
    {
     "name": "stdout",
     "output_type": "stream",
     "text": [
      "演义（小说体裁）_百度百科 https://baike.baidu.com/item/%E6%BC%94%E4%B9%89\n",
      "封神演義2019 第52集| 楓林網 http://8maple.ru/311577/\n",
      "封神演義2019 TV | 楓林網 http://8maple.ru/305133/\n",
      "三國演義- 維基百科，自由的百科全書 - Wikipedia https://zh.wikipedia.org/zh-tw/%E4%B8%89%E5%9B%BD%E6%BC%94%E4%B9%89\n",
      "封神演義第52集- DramasQ 線上看 http://dramasq.xyz/cn190408/52.html\n",
      "新版！封神演义51 52集预告邓伦、罗晋、王丽坤等主演2019 - YouTube https://www.youtube.com/watch?v=Hfb922UiriU\n",
      "演義 - 中華百科全書 http://ap6.pccu.edu.tw/Encyclopedia_media/main-lan.asp?id=3496&lpage=1&cpage=1\n",
      "封神演義- DramasQ線上看 http://www.dramasq.com/cn190408/\n",
      "封神演义剧情介绍-封神演义全集1080P线上看-在线观看-Watch online ... https://www.duboku.com/voddetail-423.html\n"
     ]
    }
   ],
   "source": [
    "from selenium import webdriver\n",
    "import requests\n",
    "from bs4 import BeautifulSoup\n",
    "\n",
    "driver = webdriver.Chrome()\n",
    "driver.get(\"https://www.google.com\")\n",
    "#找到輸入框\n",
    "element = driver.find_element_by_name(\"q\")\n",
    "#輸入內容\n",
    "element.send_keys(\"演義\");\n",
    "#提交表單\n",
    "element.submit();\n",
    "\n",
    "results = driver.find_element_by_id('rso')\n",
    "html = results.get_attribute('outerHTML')\n",
    "\n",
    "#driver.close()\n",
    "\n",
    "soup = BeautifulSoup(html, 'lxml')\n",
    "tags = soup.select('div.r a')\n",
    "\n",
    "for tag in tags:\n",
    "    if tag.find('h3') != None:\n",
    "        print(tag.find('h3').text, tag['href'])\n"
   ]
  },
  {
   "cell_type": "markdown",
   "metadata": {},
   "source": [
    "# Headless 無頭模式的瀏覽器\n",
    "\n",
    "### 前面，我們實作了控制瀏覽器的程式碼，看起來實在是很神奇，我們直接用程式控制瀏覽器。但是，如果進行大量的執行使用的話，你會發現畫面一直跳出執行的瀏覽器，其實也蠻困擾的。因此，有了這種無頭瀏覽器。既節省資源，執行也快速，還不會干擾畫面的運作。\n",
    "\n",
    "最主要的差別就是下面幾行，設定 chrome_options\n",
    "\n",
    "    chrome_options = Options() # 啟動無頭模式\n",
    "    chrome_options.add_argument('--headless')  #規避google bug\n",
    "    chrome_options.add_argument('--disable-gpu')\n",
    "\n",
    "    driver = webdriver.Chrome(chrome_options=chrome_options)\n"
   ]
  },
  {
   "cell_type": "code",
   "execution_count": 2,
   "metadata": {},
   "outputs": [
    {
     "name": "stderr",
     "output_type": "stream",
     "text": [
      "C:\\Users\\jiangsir\\Anaconda3\\lib\\site-packages\\ipykernel_launcher.py:10: DeprecationWarning: use options instead of chrome_options\n",
      "  # Remove the CWD from sys.path while we load stuff.\n"
     ]
    },
    {
     "name": "stdout",
     "output_type": "stream",
     "text": [
      "三國演義- 維基百科，自由的百科全書 - Wikipedia https://zh.wikipedia.org/zh-tw/%E4%B8%89%E5%9B%BD%E6%BC%94%E4%B9%89\n",
      "三國演義- 中國哲學書電子化計劃 https://ctext.org/sanguo-yanyi/zh\n",
      "三國演義全文 - 網路展書讀 http://cls.lib.ntu.edu.tw/san/bin/text.asp\n",
      "三國演義- 维基文库，自由的图书馆 https://zh.wikisource.org/zh-hant/%E4%B8%89%E5%9C%8B%E6%BC%94%E7%BE%A9\n",
      "博客來-目前您搜尋的關鍵字為: 三國演義 https://search.books.com.tw/search/query/key/%E4%B8%89%E5%9C%8B%E6%BC%94%E7%BE%A9/cat/all\n",
      "漢川草廬-中國古典小說-三國演義目錄 http://www.xn--5rtnx620bw5s.tw/e/e5/e05.htm\n",
      "《三國演義》 - 中國文化研究院 https://www.chiculture.net/index.php?file=topic_description&old_id=0416\n",
      "羅貫中【三國演義】- 好讀 http://www.haodoo.net/?M=book&P=84\n",
      "三国演义（罗贯中著长篇小说）_百度百科 https://baike.baidu.com/item/%E4%B8%89%E5%9B%BD%E6%BC%94%E4%B9%89\n"
     ]
    }
   ],
   "source": [
    "from selenium import webdriver\n",
    "from selenium.webdriver.chrome.options import Options\n",
    "import requests\n",
    "from bs4 import BeautifulSoup\n",
    "\n",
    "chrome_options = Options() # 啟動無頭模式\n",
    "chrome_options.add_argument('--headless')  #規避google bug\n",
    "chrome_options.add_argument('--disable-gpu')\n",
    "\n",
    "driver = webdriver.Chrome(chrome_options=chrome_options)\n",
    "driver.get(\"https://www.google.com\")\n",
    "#找到輸入框\n",
    "element = driver.find_element_by_name(\"q\")\n",
    "#輸入內容\n",
    "element.send_keys(\"三國演義\");\n",
    "#提交表單\n",
    "element.submit();\n",
    "\n",
    "results = driver.find_element_by_id('rso')\n",
    "html = results.get_attribute('outerHTML')\n",
    "\n",
    "#driver.close()\n",
    "\n",
    "soup = BeautifulSoup(html, 'lxml')\n",
    "tags = soup.select('div.r a')\n",
    "\n",
    "for tag in tags:\n",
    "    if tag.find('h3') != None:\n",
    "        print(tag.find('h3').text, tag['href'])\n",
    "\n",
    "driver.quit()\n",
    "\n"
   ]
  }
 ],
 "metadata": {
  "kernelspec": {
   "display_name": "Python 3",
   "language": "python",
   "name": "python3"
  },
  "language_info": {
   "codemirror_mode": {
    "name": "ipython",
    "version": 3
   },
   "file_extension": ".py",
   "mimetype": "text/x-python",
   "name": "python",
   "nbconvert_exporter": "python",
   "pygments_lexer": "ipython3",
   "version": "3.6.5"
  }
 },
 "nbformat": 4,
 "nbformat_minor": 2
}
