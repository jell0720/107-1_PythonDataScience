{
 "cells": [
  {
   "cell_type": "markdown",
   "metadata": {},
   "source": [
    "# 請設計一個監控程式，每隔 5 分鐘監視鳳山站 pm2.5 的數值，當超過一定數值的時候，就發送 LINE 訊息通知。\n",
    "\n",
    "PM2.5 讀取 URL: <a href='https://opendata.epa.gov.tw/ws/Data/ATM00625/?$format=json'>空氣品質 Open Data</a>\n",
    "\n",
    "目標: 鳳山站\n",
    "\n",
    "在發現數值高於一定值的時候，發送 LINE 通知。\n"
   ]
  },
  {
   "cell_type": "code",
   "execution_count": 9,
   "metadata": {},
   "outputs": [
    {
     "name": "stderr",
     "output_type": "stream",
     "text": [
      "C:\\Users\\user\\Anaconda3\\lib\\site-packages\\urllib3\\connectionpool.py:852: InsecureRequestWarning: Unverified HTTPS request is being made. Adding certificate verification is strongly advised. See: https://urllib3.readthedocs.io/en/latest/advanced-usage.html#ssl-warnings\n",
      "  InsecureRequestWarning)\n"
     ]
    },
    {
     "name": "stdout",
     "output_type": "stream",
     "text": [
      "{'Site': '鳳山', 'county': '高雄市', 'PM25': '25', 'DataCreationDate': '2019-06-13 13:00', 'ItemUnit': 'μg/m3'}\n",
      "PM2.5 = 25\n"
     ]
    }
   ],
   "source": [
    "import requests, json\n",
    "\n",
    "# 若來源資料為 https 則加上 verify=False 參數\n",
    "response = requests.get('https://opendata.epa.gov.tw/ws/Data/ATM00625/?$format=json', verify=False)\n",
    "# https://opendata.epa.gov.tw/ws/Data/ATM00625/?$format=json\n",
    "#print(response.text)\n",
    "sites = response.json()\n",
    "print(sites[28])\n",
    "print('PM2.5 =', sites[28]['PM25'])\n",
    "\n",
    "# for site in sites:\n",
    "#     print(site[28])"
   ]
  }
 ],
 "metadata": {
  "kernelspec": {
   "display_name": "Python 3",
   "language": "python",
   "name": "python3"
  },
  "language_info": {
   "codemirror_mode": {
    "name": "ipython",
    "version": 3
   },
   "file_extension": ".py",
   "mimetype": "text/x-python",
   "name": "python",
   "nbconvert_exporter": "python",
   "pygments_lexer": "ipython3",
   "version": "3.6.5"
  }
 },
 "nbformat": 4,
 "nbformat_minor": 2
}
