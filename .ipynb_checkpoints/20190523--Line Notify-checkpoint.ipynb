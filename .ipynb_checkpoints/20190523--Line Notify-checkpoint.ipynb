{
 "cells": [
  {
   "cell_type": "markdown",
   "metadata": {},
   "source": [
    "## Line Notify\n",
    "\n",
    "### 到設定網址  https://notify-bot.line.me/zh_TW/  進行登入\n",
    "\n",
    "![1](images/line1.jpg)\n",
    "![2](images/line2.jpg)\n",
    "![3](images/line3.jpg)\n",
    "\n",
    "\n",
    "\n",
    "最後獲得一個 token\n",
    "        \n",
    "        token: ukXxSRM1TIZd9hRx1CGSVAjOoJhqA6VtXrhtSp09LHL"
   ]
  },
  {
   "cell_type": "code",
   "execution_count": 1,
   "metadata": {},
   "outputs": [
    {
     "data": {
      "text/plain": [
       "<Response [200]>"
      ]
     },
     "execution_count": 1,
     "metadata": {},
     "output_type": "execute_result"
    }
   ],
   "source": [
    "import requests\n",
    "\n",
    "token = 'ukXxSRM1TIZd9hRx1CGSVAjOoJhqA6VtXrhtSp09LHL'\n",
    "msg = 'test line'\n",
    "\n",
    "url = \"https://notify-api.line.me/api/notify\"\n",
    "headers = {\n",
    "    \"Authorization\": \"Bearer \" + token, \n",
    "    \"Content-Type\" : \"application/x-www-form-urlencoded\"\n",
    "}\n",
    "\n",
    "payload = {'message': msg}\n",
    "r = requests.post(url, headers = headers, params = payload)\n",
    "\n",
    "r"
   ]
  },
  {
   "cell_type": "markdown",
   "metadata": {},
   "source": [
    "## 表情符號\n",
    "\n",
    "參考文件:  \n",
    "https://devdocs.line.me/files/sticker_list.pdf"
   ]
  },
  {
   "cell_type": "code",
   "execution_count": 14,
   "metadata": {},
   "outputs": [
    {
     "data": {
      "text/plain": [
       "<Response [200]>"
      ]
     },
     "execution_count": 14,
     "metadata": {},
     "output_type": "execute_result"
    }
   ],
   "source": [
    "import requests\n",
    "\n",
    "token = 'ukXxSRM1TIZd9hRx1CGSVAjOoJhqA6VtXrhtSp09LHL'\n",
    "msg = '實驗表情符號'\n",
    "stickerPackageId = 2\n",
    "stickerId = 38\n",
    "\n",
    "url = \"https://notify-api.line.me/api/notify\"\n",
    "headers = {\n",
    "    \"Authorization\": \"Bearer \" + token, \n",
    "    \"Content-Type\" : \"application/x-www-form-urlencoded\"\n",
    "}\n",
    "\n",
    "payload = {\"message\": msg, \"stickerPackageId\": stickerPackageId, 'stickerId': stickerId}\n",
    "r = requests.post(url, headers = headers, params = payload)\n",
    "\n",
    "r"
   ]
  },
  {
   "cell_type": "markdown",
   "metadata": {},
   "source": [
    "## 與天氣資訊結合"
   ]
  },
  {
   "cell_type": "code",
   "execution_count": 2,
   "metadata": {},
   "outputs": [
    {
     "name": "stdout",
     "output_type": "stream",
     "text": [
      "{'img': '02@2x.png', 'desc': '多雲', 'temperature': 25, 'felt_air_temp': 27, 'humidity': 73, 'rainfall': 0, 'sunrise': '05:05', 'sunset': '18:34', 'at': '2019-05-23 13:35:02', 'specials': [], 'histories': [{'img': '12@2x.png', 'desc': '短暫陣雨', 'temperature': 22, 'felt_air_temp': 25, 'humidity': 95, 'rainfall': 0.5, 'sunrise': '05:05', 'sunset': '18:34', 'at': '2019-05-23 08:05:02'}, {'img': '12@2x.png', 'desc': '短暫陣雨', 'temperature': 22, 'felt_air_temp': 25, 'humidity': 91, 'rainfall': 0, 'sunrise': '05:05', 'sunset': '18:34', 'at': '2019-05-23 08:35:02'}, {'img': '12@2x.png', 'desc': '短暫陣雨', 'temperature': 22, 'felt_air_temp': 25, 'humidity': 91, 'rainfall': 0, 'sunrise': '05:05', 'sunset': '18:34', 'at': '2019-05-23 09:05:02'}, {'img': '12@2x.png', 'desc': '短暫陣雨', 'temperature': 23, 'felt_air_temp': 25, 'humidity': 91, 'rainfall': 0, 'sunrise': '05:05', 'sunset': '18:34', 'at': '2019-05-23 09:35:02'}, {'img': '12@2x.png', 'desc': '短暫陣雨', 'temperature': 23, 'felt_air_temp': 25, 'humidity': 91, 'rainfall': 0, 'sunrise': '05:05', 'sunset': '18:34', 'at': '2019-05-23 10:05:02'}, {'img': '12@2x.png', 'desc': '短暫陣雨', 'temperature': 22, 'felt_air_temp': 24, 'humidity': 92, 'rainfall': 0.5, 'sunrise': '05:05', 'sunset': '18:34', 'at': '2019-05-23 10:35:01'}, {'img': '12@2x.png', 'desc': '短暫陣雨', 'temperature': 22, 'felt_air_temp': 23, 'humidity': 92, 'rainfall': 0.5, 'sunrise': '05:05', 'sunset': '18:34', 'at': '2019-05-23 11:05:02'}, {'img': '12@2x.png', 'desc': '短暫陣雨', 'temperature': 22, 'felt_air_temp': 22, 'humidity': 94, 'rainfall': 1, 'sunrise': '05:05', 'sunset': '18:34', 'at': '2019-05-23 11:35:01'}, {'img': '12@2x.png', 'desc': '短暫陣雨', 'temperature': 22, 'felt_air_temp': 22, 'humidity': 94, 'rainfall': 1, 'sunrise': '05:05', 'sunset': '18:34', 'at': '2019-05-23 12:05:02'}, {'img': '12@2x.png', 'desc': '短暫陣雨', 'temperature': 22, 'felt_air_temp': 23, 'humidity': 94, 'rainfall': 0.5, 'sunrise': '05:05', 'sunset': '18:34', 'at': '2019-05-23 12:35:02'}, {'img': '12@2x.png', 'desc': '短暫陣雨', 'temperature': 22, 'felt_air_temp': 23, 'humidity': 94, 'rainfall': 0.5, 'sunrise': '05:05', 'sunset': '18:34', 'at': '2019-05-23 13:05:01'}, {'img': '02@2x.png', 'desc': '多雲', 'temperature': 25, 'felt_air_temp': 27, 'humidity': 73, 'rainfall': 0, 'sunrise': '05:05', 'sunset': '18:34', 'at': '2019-05-23 13:35:02'}]}\n"
     ]
    },
    {
     "data": {
      "text/plain": [
       "<Response [200]>"
      ]
     },
     "execution_count": 2,
     "metadata": {},
     "output_type": "execute_result"
    }
   ],
   "source": [
    "import requests\n",
    "token = 'ukXxSRM1TIZd9hRx1CGSVAjOoJhqA6VtXrhtSp09LHL'\n",
    "url = \"https://notify-api.line.me/api/notify\"\n",
    "headers = {\n",
    "    \"Authorization\": \"Bearer \" + token, \n",
    "    \"Content-Type\" : \"application/x-www-form-urlencoded\"\n",
    "}\n",
    "\n",
    "target_url = 'https://works.ioa.tw/weather/api/weathers/1.json'\n",
    "r = requests.get(url=target_url)\n",
    "data = r.json()\n",
    "msg = '溫度:', data['temperature'], \"度\" , data['desc']\n",
    "print(msg)\n",
    "\n",
    "payload = {'message': msg}\n",
    "r = requests.post(url, headers = headers, params = payload)\n",
    "\n",
    "r"
   ]
  }
 ],
 "metadata": {
  "kernelspec": {
   "display_name": "Python 3",
   "language": "python",
   "name": "python3"
  },
  "language_info": {
   "codemirror_mode": {
    "name": "ipython",
    "version": 3
   },
   "file_extension": ".py",
   "mimetype": "text/x-python",
   "name": "python",
   "nbconvert_exporter": "python",
   "pygments_lexer": "ipython3",
   "version": "3.6.5"
  }
 },
 "nbformat": 4,
 "nbformat_minor": 2
}
