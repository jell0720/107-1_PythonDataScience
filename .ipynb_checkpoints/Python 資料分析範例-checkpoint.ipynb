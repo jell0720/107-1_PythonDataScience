{
 "cells": [
  {
   "cell_type": "markdown",
   "metadata": {},
   "source": [
    "給定數十篇英文文章, 找出文章中最常出現的單字"
   ]
  },
  {
   "cell_type": "markdown",
   "metadata": {},
   "source": [
    "給定一個英文單字表 用 RE 找出相似的單字"
   ]
  },
  {
   "cell_type": "code",
   "execution_count": 3,
   "metadata": {},
   "outputs": [
    {
     "data": {
      "text/plain": [
       "['sind', 'find']"
      ]
     },
     "execution_count": 3,
     "metadata": {},
     "output_type": "execute_result"
    }
   ],
   "source": [
    "import re\n",
    "string = \"ajsdfasdf;asdjfa;sld jfasdkljf;assindlkdjf ;asldkjf asldkfja; sdlfjfindasd; lajfd;lsadkfaj f\"\n",
    "pattern = \"[a-z]ind\"\n",
    "re.findall(pattern, string)"
   ]
  },
  {
   "cell_type": "markdown",
   "metadata": {},
   "source": [
    "一大堆文字, 找出裡面的 email\n"
   ]
  },
  {
   "cell_type": "code",
   "execution_count": null,
   "metadata": {},
   "outputs": [],
   "source": [
    "import re\n",
    "pattern = \"[a-zA-Z0-9._]+@[A-Za-z.]+\\.(com|edu)+\\.tw\"\n"
   ]
  },
  {
   "cell_type": "markdown",
   "metadata": {},
   "source": [
    "下載 youtube 影片"
   ]
  },
  {
   "cell_type": "code",
   "execution_count": null,
   "metadata": {},
   "outputs": [],
   "source": []
  },
  {
   "cell_type": "markdown",
   "metadata": {},
   "source": [
    "下載 youtube 影片後, 全部轉成 mp3"
   ]
  },
  {
   "cell_type": "code",
   "execution_count": null,
   "metadata": {},
   "outputs": [],
   "source": []
  },
  {
   "cell_type": "markdown",
   "metadata": {},
   "source": [
    "批次下載某些圖片, 寶可夢? 動漫角色?\n",
    "\n",
    "### [爬蟲抓圖片](http://dangerlover9403.pixnet.net/blog/post/207823890-%5Bpython%5D-day14---python-%E5%BE%9E%E7%B6%B2%E8%B7%AF%E6%8A%93%E5%9C%96%E7%89%87)"
   ]
  },
  {
   "cell_type": "code",
   "execution_count": 7,
   "metadata": {},
   "outputs": [
    {
     "name": "stdout",
     "output_type": "stream",
     "text": [
      "第 1 張\n",
      "第 2 張\n",
      "第 3 張\n",
      "第 4 張\n",
      "第 5 張\n",
      "第 6 張\n",
      "第 7 張\n",
      "第 8 張\n",
      "第 9 張\n",
      "第 10 張\n",
      "Done\n"
     ]
    }
   ],
   "source": [
    "import requests\n",
    "import urllib.request\n",
    "from bs4 import BeautifulSoup\n",
    "import os\n",
    "import time\n",
    "\n",
    "\n",
    "url = 'https://www.google.com/search?q=%E7%BE%8E%E5%A5%B3&rlz=1C2CAFB_enTW617TW617&source=lnms&tbm=isch&sa=X&ved=0ahUKEwictOnTmYDcAhXGV7wKHX-OApwQ_AUICigB&biw=1128&bih=960'\n",
    "url = 'https://www.google.com.tw/search?q=%E5%8C%85%E5%8F%AF%E5%A4%A2&source=lnms&tbm=isch&sa=X&ved=0ahUKEwiylIPwpJ_eAhXEULwKHZfrD14Q_AUIDigB&biw=1024&bih=463'\n",
    "\n",
    "photolimit = 10\n",
    "\n",
    "\n",
    "\n",
    "headers = {'User-Agent': 'Mozilla/5.0'}\n",
    "\n",
    "response = requests.get(url,headers = headers) #使用header避免訪問受到限制\n",
    "\n",
    "soup = BeautifulSoup(response.content, 'html.parser')\n",
    "\n",
    "items = soup.find_all('img')\n",
    "\n",
    "folder_path ='./photo/'\n",
    "\n",
    "if (os.path.exists(folder_path) == False): #判斷資料夾是否存在\n",
    "\n",
    "    os.makedirs(folder_path) #Create folder\n",
    "\n",
    "\n",
    "\n",
    "for index , item in enumerate (items):\n",
    "\n",
    "    if (item and index < photolimit ):\n",
    "\n",
    "        html = requests.get(item.get('src')) # use 'get' to get photo link path , requests = send request\n",
    "\n",
    "        img_name = folder_path + str(index + 1) + '.png'\n",
    "\n",
    "\n",
    "\n",
    "        with open(img_name,'wb') as file: #以byte的形式將圖片數據寫入\n",
    "\n",
    "            file.write(html.content)\n",
    "\n",
    "            file.flush()\n",
    "\n",
    "        file.close() #close file\n",
    "\n",
    "        print('第 %d 張' % (index + 1))\n",
    "\n",
    "        time.sleep(1)\n",
    "\n",
    "\n",
    "\n",
    "print('Done')"
   ]
  },
  {
   "cell_type": "markdown",
   "metadata": {},
   "source": [
    "將 PPT 爬到的文章進行語意分析\n",
    "\n",
    "### [Python中好用的中文語義分析系統——bosonnlp](https://kknews.cc/zh-tw/tech/yynopmk.html)\n",
    "\n",
    "找到負面/正面評價\n",
    "\n",
    "### [如何用Python做情感分析？](http://blog.sciencenet.cn/blog-377709-1062960.html)\n",
    "\n",
    "showNLP\n"
   ]
  },
  {
   "cell_type": "code",
   "execution_count": null,
   "metadata": {},
   "outputs": [],
   "source": []
  },
  {
   "cell_type": "markdown",
   "metadata": {},
   "source": [
    "分析 IP 來源, 分析 ID 上線時間"
   ]
  }
 ],
 "metadata": {
  "kernelspec": {
   "display_name": "Python 3",
   "language": "python",
   "name": "python3"
  },
  "language_info": {
   "codemirror_mode": {
    "name": "ipython",
    "version": 3
   },
   "file_extension": ".py",
   "mimetype": "text/x-python",
   "name": "python",
   "nbconvert_exporter": "python",
   "pygments_lexer": "ipython3",
   "version": "3.6.5"
  }
 },
 "nbformat": 4,
 "nbformat_minor": 2
}
